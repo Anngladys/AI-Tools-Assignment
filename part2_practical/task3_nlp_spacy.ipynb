{
 "cells": [
  {
   "cell_type": "code",
   "execution_count": null,
   "id": "59568f6d",
   "metadata": {
    "vscode": {
     "languageId": "plaintext"
    }
   },
   "outputs": [],
   "source": [
    "# Cell 1: Import Libraries\n",
    "import spacy\n",
    "\n",
    "# Load the English spaCy model (ensure you've run 'python -m spacy download en_core_web_sm' in terminal)\n",
    "try:\n",
    "    nlp = spacy.load(\"en_core_web_sm\")\n",
    "    print(\"spaCy model loaded successfully!\")\n",
    "except OSError:\n",
    "    print(\"SpaCy model not found. Please run 'python -m spacy download en_core_web_sm' in your terminal and try again.\")\n",
    "    exit() # Exit if model not loaded"
   ]
  },
  {
   "cell_type": "code",
   "execution_count": null,
   "id": "22afdfd0",
   "metadata": {
    "vscode": {
     "languageId": "plaintext"
    }
   },
   "outputs": [],
   "source": [
    "# Cell 2: Define Sample Review Texts\n",
    "review_texts = [\n",
    "    \"The new iPhone 15 Pro is an amazing device. Apple has outdone themselves.\",\n",
    "    \"This Samsung Galaxy S24 has a terrible battery life. Very disappointed with the brand.\",\n",
    "    \"Excellent Bose QuietComfort headphones! Sound quality is superb.\",\n",
    "    \"I bought a cheap knockoff charger, it stopped working in a week. Don't waste your money.\",\n",
    "    \"The Sony PlayStation 5 is fantastic for gaming, but it's often out of stock.\",\n",
    "    \"My new Kindle Oasis arrived quickly. It's great for reading, a truly portable library.\",\n",
    "    \"Terrible experience with this Dell XPS laptop, constant crashes.\"\n",
    "]\n",
    "\n",
    "print(\"Sample review texts defined.\")"
   ]
  },
  {
   "cell_type": "code",
   "execution_count": null,
   "id": "5a0a9e9c",
   "metadata": {
    "vscode": {
     "languageId": "plaintext"
    }
   },
   "outputs": [],
   "source": [
    "# Cell 3: Perform Named Entity Recognition (NER)\n",
    "print(\"--- Named Entity Recognition (NER) ---\")\n",
    "extracted_entities = []\n",
    "\n",
    "for i, text in enumerate(review_texts):\n",
    "    doc = nlp(text)\n",
    "    entities_in_review = []\n",
    "    print(f\"\\nReview {i+1}: \\\"{text}\\\"\")\n",
    "    for ent in doc.ents:\n",
    "        # We're primarily interested in products, organizations, and potentially people (as brand founders)\n",
    "        if ent.label_ in [\"ORG\", \"PRODUCT\", \"GPE\", \"PERSON\", \"NORP\"]: # Added more common relevant labels\n",
    "            entities_in_review.append({\"text\": ent.text, \"label\": ent.label_})\n",
    "            print(f\"  - Entity: '{ent.text}' (Type: {ent.label_})\")\n",
    "    extracted_entities.append(entities_in_review)"
   ]
  },
  {
   "cell_type": "code",
   "execution_count": null,
   "id": "c68678e8",
   "metadata": {
    "vscode": {
     "languageId": "plaintext"
    }
   },
   "outputs": [],
   "source": [
    "# Cell 4: Analyze Sentiment (Rule-Based Approach)\n",
    "print(\"\\n--- Sentiment Analysis (Rule-Based) ---\")\n",
    "\n",
    "positive_words = [\"amazing\", \"excellent\", \"superb\", \"fantastic\", \"great\", \"love\", \"good\", \"happy\", \"satisfied\", \"quick\"]\n",
    "negative_words = [\"terrible\", \"disappointed\", \"stopped working\", \"waste\", \"cheap\", \"constant crashes\", \"bad\", \"slow\", \"poor\"]\n",
    "\n",
    "def analyze_sentiment_rule_based(text):\n",
    "    text_lower = text.lower()\n",
    "    pos_score = sum(1 for word in positive_words if word in text_lower)\n",
    "    neg_score = sum(1 for word in negative_words if word in text_lower)\n",
    "\n",
    "    if pos_score > neg_score:\n",
    "        return \"Positive\"\n",
    "    elif neg_score > pos_score:\n",
    "        return \"Negative\"\n",
    "    else:\n",
    "        return \"Neutral\" # Or if pos_score == neg_score\n",
    "\n",
    "for i, text in enumerate(review_texts):\n",
    "    sentiment = analyze_sentiment_rule_based(text)\n",
    "    print(f\"\\nReview {i+1}: \\\"{text}\\\"\")\n",
    "    print(f\"  - Sentiment: {sentiment}\")"
   ]
  },
  {
   "cell_type": "code",
   "execution_count": null,
   "id": "314f6c02",
   "metadata": {
    "vscode": {
     "languageId": "plaintext"
    }
   },
   "outputs": [],
   "source": []
  }
 ],
 "metadata": {
  "language_info": {
   "name": "python"
  }
 },
 "nbformat": 4,
 "nbformat_minor": 5
}
