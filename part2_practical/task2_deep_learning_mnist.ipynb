{
 "cells": [
  {
   "cell_type": "code",
   "execution_count": null,
   "id": "e5d442e7",
   "metadata": {
    "vscode": {
     "languageId": "plaintext"
    }
   },
   "outputs": [],
   "source": [
    "# Cell 1: Import Libraries\n",
    "import tensorflow as tf\n",
    "from tensorflow.keras.models import Sequential\n",
    "from tensorflow.keras.layers import Conv2D, MaxPooling2D, Flatten, Dense, Dropout\n",
    "from tensorflow.keras.utils import to_categorical\n",
    "import matplotlib.pyplot as plt\n",
    "import numpy as np\n",
    "\n",
    "print(f\"TensorFlow Version: {tf.__version__}\")\n",
    "print(\"Libraries imported successfully!\")"
   ]
  },
  {
   "cell_type": "code",
   "execution_count": null,
   "id": "d87a521f",
   "metadata": {
    "vscode": {
     "languageId": "plaintext"
    }
   },
   "outputs": [],
   "source": [
    "# Cell 2: Load and Preprocess Data\n",
    "# Load the MNIST dataset\n",
    "(X_train, y_train), (X_test, y_test) = tf.keras.datasets.mnist.load_data()\n",
    "\n",
    "print(f\"Original Training data shape: {X_train.shape}, Labels shape: {y_train.shape}\")\n",
    "print(f\"Original Testing data shape: {X_test.shape}, Labels shape: {y_test.shape}\")\n",
    "\n",
    "# Normalize pixel values to [0, 1]\n",
    "X_train = X_train.astype('float32') / 255.0\n",
    "X_test = X_test.astype('float32') / 255.0\n",
    "\n",
    "# Reshape images to (height, width, channels) - MNIST is grayscale, so channels=1\n",
    "X_train = np.expand_dims(X_train, -1) # Adds a channel dimension\n",
    "X_test = np.expand_dims(X_test, -1)\n",
    "\n",
    "print(f\"\\nNormalized and Reshaped Training data shape: {X_train.shape}\")\n",
    "print(f\"Normalized and Reshaped Testing data shape: {X_test.shape}\")\n",
    "\n",
    "# One-hot encode the labels\n",
    "num_classes = 10\n",
    "y_train_one_hot = to_categorical(y_train, num_classes)\n",
    "y_test_one_hot = to_categorical(y_test, num_classes)\n",
    "\n",
    "print(f\"One-hot encoded Training labels shape: {y_train_one_hot.shape}\")\n",
    "print(f\"One-hot encoded Testing labels shape: {y_test_one_hot.shape}\")"
   ]
  },
  {
   "cell_type": "markdown",
   "id": "51e26592",
   "metadata": {},
   "source": []
  },
  {
   "cell_type": "code",
   "execution_count": null,
   "id": "540bde92",
   "metadata": {
    "vscode": {
     "languageId": "plaintext"
    }
   },
   "outputs": [],
   "source": [
    "# Cell 3: Build the CNN Model\n",
    "model = Sequential([\n",
    "    Conv2D(32, (3, 3), activation='relu', input_shape=(28, 28, 1)),\n",
    "    MaxPooling2D((2, 2)),\n",
    "    Conv2D(64, (3, 3), activation='relu'),\n",
    "    MaxPooling2D((2, 2)),\n",
    "    Flatten(),\n",
    "    Dense(128, activation='relu'),\n",
    "    Dropout(0.5), # Helps prevent overfitting\n",
    "    Dense(num_classes, activation='softmax') # Output layer for 10 classes\n",
    "])\n",
    "\n",
    "# Compile the model\n",
    "model.compile(optimizer='adam',\n",
    "              loss='categorical_crossentropy',\n",
    "              metrics=['accuracy'])\n",
    "\n",
    "model.summary()"
   ]
  },
  {
   "cell_type": "code",
   "execution_count": null,
   "id": "3fe1f3fa",
   "metadata": {
    "vscode": {
     "languageId": "plaintext"
    }
   },
   "outputs": [],
   "source": [
    "# Cell 7: Save the Trained Model\n",
    "import os\n",
    "\n",
    "# Define the directory to save the model\n",
    "model_dir = 'bonus_deployment/saved_models'\n",
    "os.makedirs(model_dir, exist_ok=True) # Create the directory if it doesn't exist\n",
    "\n",
    "# Define the model path\n",
    "model_path = os.path.join(model_dir, 'mnist_cnn_model.h5')\n",
    "\n",
    "# Save the entire model (architecture, weights, optimizer state)\n",
    "model.save(model_path)\n",
    "\n",
    "print(f\"Model saved successfully to: {model_path}\")\n",
    "print(\"You can now find 'mnist_cnn_model.h5' inside the 'bonus_deployment/saved_models' folder.\")"
   ]
  },
  {
   "cell_type": "code",
   "execution_count": null,
   "id": "3e48ff43",
   "metadata": {
    "vscode": {
     "languageId": "plaintext"
    }
   },
   "outputs": [],
   "source": [
    "# Cell 3: Build the CNN Model\n",
    "model = Sequential([\n",
    "    Conv2D(32, (3, 3), activation='relu', input_shape=(28, 28, 1)),\n",
    "    MaxPooling2D((2, 2)),\n",
    "    Conv2D(64, (3, 3), activation='relu'),\n",
    "    MaxPooling2D((2, 2)),\n",
    "    Flatten(),\n",
    "    Dense(128, activation='relu'),\n",
    "    Dropout(0.5), # Helps prevent overfitting\n",
    "    Dense(num_classes, activation='softmax') # Output layer for 10 classes\n",
    "])\n",
    "\n",
    "# Compile the model\n",
    "model.compile(optimizer='adam',\n",
    "              loss='categorical_crossentropy',\n",
    "              metrics=['accuracy'])\n",
    "\n",
    "model.summary()"
   ]
  },
  {
   "cell_type": "code",
   "execution_count": null,
   "id": "0b39fda4",
   "metadata": {
    "vscode": {
     "languageId": "plaintext"
    }
   },
   "outputs": [],
   "source": [
    "# Cell 5: Evaluate the Model\n",
    "loss, accuracy = model.evaluate(X_test, y_test_one_hot, verbose=0)\n",
    "\n",
    "print(f\"Test Loss: {loss:.4f}\")\n",
    "print(f\"Test Accuracy: {accuracy:.4f}\")\n",
    "\n",
    "# Plot training & validation accuracy values\n",
    "plt.figure(figsize=(12, 4))\n",
    "plt.subplot(1, 2, 1)\n",
    "plt.plot(history.history['accuracy'])\n",
    "plt.plot(history.history['val_accuracy'])\n",
    "plt.title('Model Accuracy')\n",
    "plt.ylabel('Accuracy')\n",
    "plt.xlabel('Epoch')\n",
    "plt.legend(['Train', 'Validation'], loc='upper left')\n",
    "\n",
    "# Plot training & validation loss values\n",
    "plt.subplot(1, 2, 2)\n",
    "plt.plot(history.history['loss'])\n",
    "plt.plot(history.history['val_loss'])\n",
    "plt.title('Model Loss')\n",
    "plt.ylabel('Loss')\n",
    "plt.xlabel('Epoch')\n",
    "plt.legend(['Train', 'Validation'], loc='upper left')\n",
    "plt.tight_layout()\n",
    "plt.show()"
   ]
  },
  {
   "cell_type": "code",
   "execution_count": null,
   "id": "40e40a13",
   "metadata": {
    "vscode": {
     "languageId": "plaintext"
    }
   },
   "outputs": [],
   "source": [
    "# Cell 7: Save the Trained Model (for Bonus Task)\n",
    "import os\n",
    "\n",
    "# Define the directory to save the model\n",
    "model_dir = 'bonus_deployment/saved_models'\n",
    "os.makedirs(model_dir, exist_ok=True) # Create the directory if it doesn't exist\n",
    "\n",
    "# Define the model path\n",
    "model_path = os.path.join(model_dir, 'mnist_cnn_model.h5')\n",
    "\n",
    "# Save the entire model (architecture, weights, optimizer state)\n",
    "model.save(model_path)\n",
    "\n",
    "print(f\"Model saved successfully to: {model_path}\")\n",
    "print(\"You can now find 'mnist_cnn_model.h5' inside the 'bonus_deployment/saved_models' folder.\")"
   ]
  }
 ],
 "metadata": {
  "language_info": {
   "name": "python"
  }
 },
 "nbformat": 4,
 "nbformat_minor": 5
}
